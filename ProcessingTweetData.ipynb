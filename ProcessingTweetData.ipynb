{
 "cells": [
  {
   "cell_type": "markdown",
   "metadata": {},
   "source": [
    "**this version code trying to tokenize the keyword and categorized them for future analysis**\n",
    "**Starting from the csv file download from \n"
   ]
  },
  {
   "cell_type": "code",
   "execution_count": 1,
   "metadata": {},
   "outputs": [],
   "source": [
    "# import the necessary libraries\n",
    "import pandas as pd\n",
    "%matplotlib inline\n",
    "import numpy as np\n",
    "import scipy as sp\n",
    "import matplotlib as mpl\n",
    "import matplotlib.cm as cm\n",
    "import matplotlib.pyplot as plt\n",
    "import pandas as pd\n",
    "import time\n",
    "pd.set_option('display.width', 500)\n",
    "pd.set_option('display.max_columns', 100)\n",
    "pd.set_option('display.notebook_repr_html', True)\n",
    "import seaborn as sns\n",
    "import re"
   ]
  },
  {
   "cell_type": "code",
   "execution_count": 5,
   "metadata": {},
   "outputs": [],
   "source": [
    "df_tweets = pd.read_csv('data/trump-tweet-in-office.csv')"
   ]
  },
  {
   "cell_type": "code",
   "execution_count": 6,
   "metadata": {},
   "outputs": [
    {
     "name": "stdout",
     "output_type": "stream",
     "text": [
      "total tweets 11568\n"
     ]
    },
    {
     "data": {
      "text/html": [
       "<div>\n",
       "<style scoped>\n",
       "    .dataframe tbody tr th:only-of-type {\n",
       "        vertical-align: middle;\n",
       "    }\n",
       "\n",
       "    .dataframe tbody tr th {\n",
       "        vertical-align: top;\n",
       "    }\n",
       "\n",
       "    .dataframe thead th {\n",
       "        text-align: right;\n",
       "    }\n",
       "</style>\n",
       "<table border=\"1\" class=\"dataframe\">\n",
       "  <thead>\n",
       "    <tr style=\"text-align: right;\">\n",
       "      <th></th>\n",
       "      <th>source</th>\n",
       "      <th>text</th>\n",
       "      <th>created_at</th>\n",
       "      <th>retweet_count</th>\n",
       "      <th>favorite_count</th>\n",
       "      <th>is_retweet</th>\n",
       "      <th>id_str</th>\n",
       "    </tr>\n",
       "  </thead>\n",
       "  <tbody>\n",
       "    <tr>\n",
       "      <td>0</td>\n",
       "      <td>Twitter for iPhone</td>\n",
       "      <td>RT @RepLeeZeldin: This impeachment inquiry has...</td>\n",
       "      <td>10-25-2019 02:10:02</td>\n",
       "      <td>8819</td>\n",
       "      <td>0</td>\n",
       "      <td>True</td>\n",
       "      <td>1187551862616141824</td>\n",
       "    </tr>\n",
       "    <tr>\n",
       "      <td>1</td>\n",
       "      <td>Twitter for iPhone</td>\n",
       "      <td>RT @RepDougCollins: Democrats have no concern ...</td>\n",
       "      <td>10-25-2019 02:08:26</td>\n",
       "      <td>13713</td>\n",
       "      <td>0</td>\n",
       "      <td>True</td>\n",
       "      <td>1187551461808492544</td>\n",
       "    </tr>\n",
       "    <tr>\n",
       "      <td>2</td>\n",
       "      <td>Twitter for iPhone</td>\n",
       "      <td>RT @RepGosar: The only reason Adam Schiff is c...</td>\n",
       "      <td>10-25-2019 02:08:24</td>\n",
       "      <td>10961</td>\n",
       "      <td>0</td>\n",
       "      <td>True</td>\n",
       "      <td>1187551451775750144</td>\n",
       "    </tr>\n",
       "    <tr>\n",
       "      <td>3</td>\n",
       "      <td>Twitter for iPhone</td>\n",
       "      <td>RT @RepArrington: Let's call this sham what it...</td>\n",
       "      <td>10-25-2019 02:07:49</td>\n",
       "      <td>4547</td>\n",
       "      <td>0</td>\n",
       "      <td>True</td>\n",
       "      <td>1187551305281212416</td>\n",
       "    </tr>\n",
       "    <tr>\n",
       "      <td>4</td>\n",
       "      <td>Twitter for iPhone</td>\n",
       "      <td>RT @RepMattGaetz: Democrats are trying to use ...</td>\n",
       "      <td>10-25-2019 02:07:37</td>\n",
       "      <td>10491</td>\n",
       "      <td>0</td>\n",
       "      <td>True</td>\n",
       "      <td>1187551256371515392</td>\n",
       "    </tr>\n",
       "  </tbody>\n",
       "</table>\n",
       "</div>"
      ],
      "text/plain": [
       "               source                                               text           created_at  retweet_count  favorite_count is_retweet               id_str\n",
       "0  Twitter for iPhone  RT @RepLeeZeldin: This impeachment inquiry has...  10-25-2019 02:10:02           8819               0       True  1187551862616141824\n",
       "1  Twitter for iPhone  RT @RepDougCollins: Democrats have no concern ...  10-25-2019 02:08:26          13713               0       True  1187551461808492544\n",
       "2  Twitter for iPhone  RT @RepGosar: The only reason Adam Schiff is c...  10-25-2019 02:08:24          10961               0       True  1187551451775750144\n",
       "3  Twitter for iPhone  RT @RepArrington: Let's call this sham what it...  10-25-2019 02:07:49           4547               0       True  1187551305281212416\n",
       "4  Twitter for iPhone  RT @RepMattGaetz: Democrats are trying to use ...  10-25-2019 02:07:37          10491               0       True  1187551256371515392"
      ]
     },
     "execution_count": 6,
     "metadata": {},
     "output_type": "execute_result"
    }
   ],
   "source": [
    "\n",
    "#df_tweets.describe()\n",
    "print('total tweets', len(df_tweets))\n",
    "df_tweets.head()"
   ]
  },
  {
   "cell_type": "code",
   "execution_count": 7,
   "metadata": {},
   "outputs": [
    {
     "name": "stdout",
     "output_type": "stream",
     "text": [
      "Index(['source', 'text', 'created_at', 'retweet_count', 'favorite_count', 'is_retweet', 'id_str'], dtype='object')\n"
     ]
    }
   ],
   "source": [
    "cols = df_tweets.columns\n",
    "print(cols)\n",
    "count = len(df_tweets)\n"
   ]
  },
  {
   "cell_type": "markdown",
   "metadata": {},
   "source": [
    "print(re.sub(r'(.*)\\1', r'\\1', \"HeyHey\")) \n",
    "word_list =['just','@(\\w+)\\W']\n",
    "pt='@(\\w+)\\W'\n",
    "text ='Great news. We are only just beginning. @RepCummings today at the @WhiteHouse. Great discussion!'\n",
    "for word in word_list:\n",
    "    print(word)\n",
    "    text= re.sub(word, r' ', text)\n",
    "print(text)"
   ]
  },
  {
   "cell_type": "code",
   "execution_count": 9,
   "metadata": {},
   "outputs": [
    {
     "name": "stdout",
     "output_type": "stream",
     "text": [
      "['RepCummings', 'WhiteHouse'] Great news. We are only just beginning.  today at the   Great discussion!\n"
     ]
    }
   ],
   "source": [
    "\n",
    "def grep_ref_tweet_ids(text):\n",
    "    ref_tweet_ids=[]\n",
    "    ref_tweet_ids = re.findall(r'@(\\w+)\\W',text)\n",
    "    clean_text= re.sub(r'@(\\w+)\\W', r' ', text)\n",
    "    return ref_tweet_ids, clean_text\n",
    "\n",
    "ref_tweet_ids, clean_text =grep_ref_tweet_ids('Great news. We are only just beginning. @RepCummings today at the @WhiteHouse. Great discussion!')\n",
    "print(ref_tweet_ids, clean_text)\n"
   ]
  },
  {
   "cell_type": "code",
   "execution_count": 10,
   "metadata": {},
   "outputs": [
    {
     "name": "stdout",
     "output_type": "stream",
     "text": [
      "['Dorian', 'Gabrielle'] RT @NHC_Atlantic: Beyond Hurricane #Dorian and TS #Gabrielle were monitoring 3 other disturbances with a low chance of becoming tropical…\n"
     ]
    }
   ],
   "source": [
    "def grep_hash_tags(text):\n",
    "    ref_hash_tags=[]\n",
    "    ref_hash_tags = re.findall(r'#([\\w]{3,})\\W',text)\n",
    "    clean_text= text #re.sub(r'#([\\w]{3,})\\W', r' ', text)\n",
    "    return ref_hash_tags, clean_text\n",
    "\n",
    "ref_hash_tags, clean_text =grep_hash_tags('RT @NHC_Atlantic: Beyond Hurricane #Dorian and TS #Gabrielle were monitoring 3 other disturbances with a low chance of becoming tropical…')\n",
    "print(ref_hash_tags, clean_text)\n"
   ]
  },
  {
   "cell_type": "code",
   "execution_count": 11,
   "metadata": {},
   "outputs": [
    {
     "name": "stdout",
     "output_type": "stream",
     "text": [
      "['https://t.co/S8nZgmeMMV', 'https://t.co/xC0piRa6eP'] U.S. Consumer Comfort Just Reached Its Highest Level in a Decade ➡️https://t.co/S8nZgmeMMV https://t.co/xC0piRa6eP \n"
     ]
    }
   ],
   "source": [
    "def grep_ref_https_link(text):\n",
    "    ref_http_links=[]\n",
    "    ref_http_links=[]\n",
    "    ref_http_links = re.findall(r'(https?://[\\w\\.\\/]+)\\W',text)\n",
    "    clean_text=text\n",
    "    return ref_http_links, clean_text\n",
    "ref_http_links, clean_text =grep_ref_https_link('U.S. Consumer Comfort Just Reached Its Highest Level in a Decade ➡️https://t.co/S8nZgmeMMV https://t.co/xC0piRa6eP ')\n",
    "print(ref_http_links, clean_text)"
   ]
  },
  {
   "cell_type": "code",
   "execution_count": 41,
   "metadata": {},
   "outputs": [],
   "source": [
    "\n",
    "def stripoff_all_refs(text, word_list):\n",
    "    clean_text = text\n",
    "    for regx_ptn in word_list:\n",
    "        #print(regx_ptn)\n",
    "        clean_text= re.sub(regx_ptn, r' ', clean_text, flags=re.IGNORECASE)\n",
    "    return clean_text \n",
    "\n",
    "def stripoff_stop_words(text, word_list):\n",
    "    clean_text = text\n",
    "    for regx_ptn in word_list:\n",
    "        #print(regx_ptn)\n",
    "        clean_text= re.sub(regx_ptn, r' ', clean_text, flags=re.IGNORECASE)\n",
    "    return clean_text \n"
   ]
  },
  {
   "cell_type": "code",
   "execution_count": 44,
   "metadata": {},
   "outputs": [],
   "source": [
    "token_stop_words=['\\Wthe\\W','\\Wat\\W','\\Win\\W','\\Wof\\W','\\Woff\\W','\\Wafter\\W','\\Wbelow\\W','\\Wunder\\W','\\Wabove\\W','\\Wbefore\\W'\n",
    "            ,'\\Wa\\W','\\Wan\\W','\\Wthose\\W','\\Wthese\\W','\\Wthat\\W','\\Wthis\\W','\\Wis\\W','\\Ware\\W','\\Wwas\\W','\\Wwere\\W','\\Wbeen\\W'\n",
    "                  ,'being','\\Whe\\W','\\Wshe\\W','\\Wwe\\W','\\Wthey\\W','\\Wus\\W','\\Wthem\\W','\\Wour\\W','\\Wyour\\W'\n",
    "                  ,'\\Whis\\W','\\Wher\\W','\\Wonly\\W','\\Wjust\\W']\n",
    "keytags_politics_partisans =['hilary','wall','immigration','Nancy Pelsi','dem\\W','dem party','impeach'\n",
    "                             ,'fake news']\n",
    "keytags_foreign_policys =['Nato\\W','israel','israel','Saudi\\W','iran\\W','iraq\\W','middel east','Russia'\n",
    "                          ,'japan\\W','korean','kim ju']\n",
    "keytags_trade_war =['tpp','currency manipulate|currency manipulation','wto','unfair[\\w\\W]+trade'\n",
    "                    ,'trade deficits','trade deal','china[\\w\\W]+trade','trade','china','tariff'\n",
    "                    ,'american[\\w\\W]+manufac','american first']\n",
    "redtags_trade_war =['currency manipulate|currency manipulation','trade deal','trade deficits','china[\\w\\W]+tariff','tariff','unfair[\\w\\W]+trade']\n",
    "keytags_sentiments =['[\\?\\!]+']"
   ]
  },
  {
   "cell_type": "code",
   "execution_count": 43,
   "metadata": {},
   "outputs": [
    {
     "name": "stdout",
     "output_type": "stream",
     "text": [
      "Great news. beginning. @RepCummings today @WhiteHouse. Great discussion!\n"
     ]
    }
   ],
   "source": [
    "test_tweet_clean= stripoff_stop_words('Great news. We are only just beginning. @RepCummings today at the @WhiteHouse. Great discussion!',token_stop_words )\n",
    "print(test_tweet_clean)"
   ]
  },
  {
   "cell_type": "code",
   "execution_count": 124,
   "metadata": {},
   "outputs": [
    {
     "name": "stdout",
     "output_type": "stream",
     "text": [
      "56 ['trade deal', 'trade']\n",
      "88 ['trade']\n",
      "247 ['trade deal', 'trade']\n",
      "532 ['trade deal', 'trade deal', 'trade', 'trade']\n",
      "533 ['trade']\n",
      "534 ['trade']\n",
      "559 ['trade']\n",
      "804 ['trade deal', 'trade']\n",
      "978 ['trade deal', 'trade']\n",
      "1199 ['trade deal', 'trade']\n",
      "1294 ['trade']\n",
      "1295 ['trade deal', 'trade']\n",
      "1296 ['trade deal', 'trade']\n",
      "1501 ['tariff']\n",
      "1507 ['tariff']\n",
      "1684 ['trade']\n",
      "1685 ['tariff']\n",
      "1700 ['trade']\n",
      "1769 ['trade', 'trade', 'tariff']\n",
      "1783 ['trade deal', 'trade']\n",
      "1940 ['trade deal', 'trade']\n",
      "1962 ['trade deal', 'trade']\n",
      "2233 ['unfair trade', 'trade']\n",
      "2258 ['trade deal', 'trade']\n",
      "2378 ['trade']\n",
      "2639 ['tariff']\n",
      "2754 ['trade deal', 'trade']\n",
      "2767 ['trade']\n",
      "3044 ['trade']\n",
      "3328 ['tariff']\n",
      "3558 ['trade deal', 'trade']\n",
      "3571 ['trade']\n",
      "3638 ['trade']\n",
      "3685 ['tariff']\n",
      "3855 ['unfair trade', 'trade']\n",
      "3872 ['unfair trade', 'trade']\n",
      "3899 ['trade']\n",
      "4067 ['trade']\n",
      "4494 ['trade']\n",
      "5022 ['tariff']\n",
      "5038 ['tariff']\n",
      "5039 ['trade']\n",
      "5261 ['trade']\n",
      "5349 ['trade']\n",
      "5395 ['trade deal', 'trade']\n",
      "5434 ['trade deal', 'trade']\n",
      "5461 ['trade deal', 'trade']\n",
      "5547 ['unfair that the Steel Industry lost its jobs to unfair trade', 'trade']\n",
      "5566 ['trade deal', 'trade']\n",
      "5764 ['trade']\n",
      "5877 ['trade']\n",
      "5898 ['trade']\n",
      "5901 ['tariff', 'tariff']\n",
      "6079 ['trade']\n",
      "6911 ['tariff']\n",
      "7042 ['trade']\n",
      "7044 ['trade']\n",
      "7068 ['trade']\n",
      "7250 ['china']\n",
      "7339 ['trade deal', 'trade']\n",
      "7477 ['trade']\n",
      "7482 ['tariff']\n",
      "7486 ['trade', 'trade']\n",
      "7505 ['unfairly on trade', 'trade']\n",
      "7551 ['trade']\n",
      "7614 ['trade deal', 'trade']\n",
      "7648 ['trade', 'tariff']\n",
      "7652 ['trade']\n",
      "7659 ['trade deal', 'trade']\n",
      "7792 ['tariff']\n",
      "7793 ['trade', 'tariff', 'tariff']\n",
      "7794 ['unfair trade', 'trade']\n",
      "7801 ['trade', 'tariff']\n",
      "7827 ['trade deal', 'trade', 'trade']\n",
      "7915 ['trade']\n",
      "7941 ['unfair trade', 'trade']\n",
      "7944 ['tariff']\n",
      "7946 ['tariff']\n",
      "7948 ['trade', 'tariff']\n",
      "7950 ['trade']\n",
      "7966 ['trade deal', 'trade']\n",
      "7979 ['trade']\n",
      "8007 ['unfairly. By the time I finish trade talks that will change. Big trade barriers against U.S. farmers and other businesses will finally be broken. Massive trade', 'trade deficits', 'trade', 'trade', 'trade']\n",
      "8009 ['trade deal', 'trade']\n",
      "8010 ['trade']\n",
      "8039 ['trade', 'trade']\n",
      "8104 ['trade']\n",
      "8189 ['trade']\n",
      "8203 ['trade deal', 'trade', 'trade']\n",
      "8217 ['trade deal', 'trade']\n",
      "8223 ['trade']\n",
      "8266 ['trade']\n",
      "8285 ['trade']\n",
      "8341 ['unfairly for many years by many countries on trade', 'trade']\n",
      "8469 ['trade']\n",
      "8489 ['trade']\n",
      "8492 ['tariff']\n",
      "8500 ['trade']\n",
      "8505 ['trade']\n",
      "8514 ['unfair trade', 'trade']\n",
      "8521 ['trade']\n",
      "8531 ['trade']\n",
      "8599 ['unfair trade', 'trade']\n",
      "8633 ['trade']\n",
      "8639 ['unfair trade', 'trade']\n",
      "8666 ['trade', 'tariff', 'tariff']\n",
      "8670 ['trade']\n",
      "8676 ['trade', 'tariff']\n",
      "8685 ['trade']\n",
      "8704 ['trade deficits', 'trade']\n",
      "8705 ['trade deal', 'trade']\n",
      "8707 ['trade', 'tariff']\n",
      "8708 ['trade deal', 'trade']\n",
      "8717 ['trade', 'trade', 'trade']\n",
      "8728 ['unfair trade', 'trade']\n",
      "8970 ['trade']\n",
      "9454 ['trade']\n",
      "9476 ['trade']\n",
      "9477 ['trade']\n",
      "9636 ['trade']\n",
      "9741 ['trade']\n",
      "9999 ['trade']\n",
      "10142 ['trade']\n",
      "10189 ['trade deal', 'trade']\n",
      "10317 ['trade']\n",
      "10318 ['trade deal', 'trade']\n",
      "10321 ['trade deal', 'trade']\n",
      "10323 ['trade']\n",
      "10439 ['trade']\n",
      "10548 ['trade']\n",
      "10563 ['trade deal', 'trade']\n",
      "10569 ['trade']\n",
      "10622 ['trade deal', 'trade']\n",
      "10624 ['trade']\n",
      "10681 ['trade deal', 'trade']\n",
      "10745 ['trade']\n",
      "10900 ['trade']\n",
      "10921 ['trade']\n",
      "10922 ['trade']\n",
      "11155 ['trade deal', 'trade']\n",
      "11165 ['trade']\n",
      "11191 ['trade']\n",
      "11203 ['trade deficits', 'trade']\n",
      "11475 ['tariff']\n",
      "11522 ['trade deficits', 'trade']\n",
      "11529 ['trade']\n",
      "292\n"
     ]
    }
   ],
   "source": [
    "trade_tags_all = []\n",
    "sentiments_tags_all = []\n",
    "\n",
    "for i in range(len(df_tweets)) :\n",
    "    #print(i)\n",
    "    tweet_text = df_tweets.iloc[i,1]\n",
    "    trade_tag =[]\n",
    "    for tag in keytags_trade_war:\n",
    "        trade_tag = trade_tag + re.findall(tag,tweet_text)\n",
    "    \n",
    "    sentiments_tag =[]\n",
    "    for tag in keytags_sentiments:\n",
    "        sentiments_tag = sentiments_tag + re.findall(tag,tweet_text)\n",
    "\n",
    "    trade_tags_all.append(trade_tag)\n",
    "    sentiments_tags_all.append(sentiments_tag)\n",
    "    \n",
    "    if len(trade_tag)>0:\n",
    "        counter +=1\n",
    "        print(i, trade_tag)\n",
    "        #print(tweet_text)\n",
    "print(counter)"
   ]
  },
  {
   "cell_type": "code",
   "execution_count": 49,
   "metadata": {},
   "outputs": [
    {
     "name": "stderr",
     "output_type": "stream",
     "text": [
      "C:\\ProgramData\\Anaconda3\\lib\\site-packages\\ipykernel_launcher.py:5: SettingWithCopyWarning: \n",
      "A value is trying to be set on a copy of a slice from a DataFrame.\n",
      "Try using .loc[row_indexer,col_indexer] = value instead\n",
      "\n",
      "See the caveats in the documentation: http://pandas.pydata.org/pandas-docs/stable/user_guide/indexing.html#returning-a-view-versus-a-copy\n",
      "  \"\"\"\n"
     ]
    },
    {
     "data": {
      "text/html": [
       "<div>\n",
       "<style scoped>\n",
       "    .dataframe tbody tr th:only-of-type {\n",
       "        vertical-align: middle;\n",
       "    }\n",
       "\n",
       "    .dataframe tbody tr th {\n",
       "        vertical-align: top;\n",
       "    }\n",
       "\n",
       "    .dataframe thead th {\n",
       "        text-align: right;\n",
       "    }\n",
       "</style>\n",
       "<table border=\"1\" class=\"dataframe\">\n",
       "  <thead>\n",
       "    <tr style=\"text-align: right;\">\n",
       "      <th></th>\n",
       "      <th>source</th>\n",
       "      <th>text</th>\n",
       "      <th>created_at</th>\n",
       "      <th>retweet_count</th>\n",
       "      <th>favorite_count</th>\n",
       "      <th>is_retweet</th>\n",
       "      <th>id_str</th>\n",
       "      <th>tradetag</th>\n",
       "    </tr>\n",
       "  </thead>\n",
       "  <tbody>\n",
       "    <tr>\n",
       "      <td>0</td>\n",
       "      <td>Twitter for iPhone</td>\n",
       "      <td>RT @RepLeeZeldin: This impeachment inquiry has...</td>\n",
       "      <td>10-25-2019 02:10:02</td>\n",
       "      <td>8819</td>\n",
       "      <td>0</td>\n",
       "      <td>True</td>\n",
       "      <td>1187551862616141824</td>\n",
       "      <td>[]</td>\n",
       "    </tr>\n",
       "    <tr>\n",
       "      <td>1</td>\n",
       "      <td>Twitter for iPhone</td>\n",
       "      <td>RT @RepDougCollins: Democrats have no concern ...</td>\n",
       "      <td>10-25-2019 02:08:26</td>\n",
       "      <td>13713</td>\n",
       "      <td>0</td>\n",
       "      <td>True</td>\n",
       "      <td>1187551461808492544</td>\n",
       "      <td>[]</td>\n",
       "    </tr>\n",
       "    <tr>\n",
       "      <td>2</td>\n",
       "      <td>Twitter for iPhone</td>\n",
       "      <td>RT @RepGosar: The only reason Adam Schiff is c...</td>\n",
       "      <td>10-25-2019 02:08:24</td>\n",
       "      <td>10961</td>\n",
       "      <td>0</td>\n",
       "      <td>True</td>\n",
       "      <td>1187551451775750144</td>\n",
       "      <td>[]</td>\n",
       "    </tr>\n",
       "    <tr>\n",
       "      <td>3</td>\n",
       "      <td>Twitter for iPhone</td>\n",
       "      <td>RT @RepArrington: Let's call this sham what it...</td>\n",
       "      <td>10-25-2019 02:07:49</td>\n",
       "      <td>4547</td>\n",
       "      <td>0</td>\n",
       "      <td>True</td>\n",
       "      <td>1187551305281212416</td>\n",
       "      <td>[]</td>\n",
       "    </tr>\n",
       "    <tr>\n",
       "      <td>4</td>\n",
       "      <td>Twitter for iPhone</td>\n",
       "      <td>RT @RepMattGaetz: Democrats are trying to use ...</td>\n",
       "      <td>10-25-2019 02:07:37</td>\n",
       "      <td>10491</td>\n",
       "      <td>0</td>\n",
       "      <td>True</td>\n",
       "      <td>1187551256371515392</td>\n",
       "      <td>[]</td>\n",
       "    </tr>\n",
       "  </tbody>\n",
       "</table>\n",
       "</div>"
      ],
      "text/plain": [
       "               source                                               text           created_at  retweet_count  favorite_count is_retweet               id_str tradetag\n",
       "0  Twitter for iPhone  RT @RepLeeZeldin: This impeachment inquiry has...  10-25-2019 02:10:02           8819               0       True  1187551862616141824       []\n",
       "1  Twitter for iPhone  RT @RepDougCollins: Democrats have no concern ...  10-25-2019 02:08:26          13713               0       True  1187551461808492544       []\n",
       "2  Twitter for iPhone  RT @RepGosar: The only reason Adam Schiff is c...  10-25-2019 02:08:24          10961               0       True  1187551451775750144       []\n",
       "3  Twitter for iPhone  RT @RepArrington: Let's call this sham what it...  10-25-2019 02:07:49           4547               0       True  1187551305281212416       []\n",
       "4  Twitter for iPhone  RT @RepMattGaetz: Democrats are trying to use ...  10-25-2019 02:07:37          10491               0       True  1187551256371515392       []"
      ]
     },
     "execution_count": 49,
     "metadata": {},
     "output_type": "execute_result"
    }
   ],
   "source": [
    "\n",
    "df_tweets_padded = df_tweets.copy()\n",
    "df_tweets_padded['tradetag']=trade_tags_all\n",
    "#df_tweets_padded.head()\n",
    "\n"
   ]
  },
  {
   "cell_type": "code",
   "execution_count": 97,
   "metadata": {},
   "outputs": [
    {
     "name": "stderr",
     "output_type": "stream",
     "text": [
      "C:\\ProgramData\\Anaconda3\\lib\\site-packages\\ipykernel_launcher.py:3: SettingWithCopyWarning: \n",
      "A value is trying to be set on a copy of a slice from a DataFrame.\n",
      "Try using .loc[row_indexer,col_indexer] = value instead\n",
      "\n",
      "See the caveats in the documentation: http://pandas.pydata.org/pandas-docs/stable/user_guide/indexing.html#returning-a-view-versus-a-copy\n",
      "  This is separate from the ipykernel package so we can avoid doing imports until\n"
     ]
    },
    {
     "data": {
      "text/plain": [
       "source            object\n",
       "text              object\n",
       "created_at        object\n",
       "retweet_count      int64\n",
       "favorite_count     int64\n",
       "is_retweet        object\n",
       "id_str             int64\n",
       "tradetag          object\n",
       "dtype: object"
      ]
     },
     "execution_count": 97,
     "metadata": {},
     "output_type": "execute_result"
    }
   ],
   "source": [
    "df_tweets_trade_flagged = df_tweets_padded.loc[df_tweets_padded['tradetag'].str.len()>0 ]\n",
    "#df_tweets_trade_flagged.head()\n",
    "df_tweets_trade_flagged['created_at'] =  pd.to_datetime(df_tweets_trade_flagged['created_at']).dt.date\n",
    "df_tweets_trade_flagged.head()\n",
    "\n"
   ]
  },
  {
   "cell_type": "code",
   "execution_count": null,
   "metadata": {},
   "outputs": [],
   "source": []
  }
 ],
 "metadata": {
  "kernelspec": {
   "display_name": "Python 3",
   "language": "python",
   "name": "python3"
  },
  "language_info": {
   "codemirror_mode": {
    "name": "ipython",
    "version": 3
   },
   "file_extension": ".py",
   "mimetype": "text/x-python",
   "name": "python",
   "nbconvert_exporter": "python",
   "pygments_lexer": "ipython3",
   "version": "3.7.4"
  }
 },
 "nbformat": 4,
 "nbformat_minor": 2
}
